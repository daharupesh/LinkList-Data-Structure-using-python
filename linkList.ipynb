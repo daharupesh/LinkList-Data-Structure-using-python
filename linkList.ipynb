{
 "cells": [
  {
   "cell_type": "code",
   "execution_count": 2,
   "metadata": {},
   "outputs": [],
   "source": [
    "# Creating Node Class to Implement Link List Data Structure..\n",
    "class Node:\n",
    "    # create Constructor method for object creation of List node\n",
    "    def __init__(self , data = None , next = None):\n",
    "        self.data = data\n",
    "        self.next = next\n",
    "    \n",
    "    # set the data in side the link list method use\n",
    "    def setData(self , data):\n",
    "        self.data = data\n",
    "\n",
    "    # method to get the data\n",
    "    def getData(self):\n",
    "        return self.data\n",
    "    \n",
    "    # method to set the next\n",
    "    def setNext(self,next):\n",
    "        self.next = next\n",
    "\n",
    "    # method to get the next\n",
    "    def getNext(self):\n",
    "        return self.next"
   ]
  },
  {
   "cell_type": "code",
   "execution_count": 3,
   "metadata": {},
   "outputs": [],
   "source": [
    "# creating listNode\n",
    "head = Node(1)\n",
    "node1 = Node(2)\n",
    "node2 = Node(3)\n",
    "node3 = Node(4)\n",
    "node4 = Node(5)"
   ]
  },
  {
   "cell_type": "code",
   "execution_count": 4,
   "metadata": {},
   "outputs": [],
   "source": [
    "# creating Chain between listNode\n",
    "head.setNext(node1)\n",
    "node1.setNext(node2)\n",
    "node2.setNext(node3)\n",
    "node3.setNext(node4)"
   ]
  },
  {
   "cell_type": "code",
   "execution_count": 5,
   "metadata": {},
   "outputs": [],
   "source": [
    "# Traverse Function\n",
    "def traverse(head):\n",
    "    temp = head\n",
    "    while temp:\n",
    "        print(temp.getData() , end=\" -> \")\n",
    "        temp = temp.getNext()"
   ]
  },
  {
   "cell_type": "code",
   "execution_count": 6,
   "metadata": {},
   "outputs": [
    {
     "name": "stdout",
     "output_type": "stream",
     "text": [
      "1 -> 2 -> 3 -> 4 -> 5 -> "
     ]
    }
   ],
   "source": [
    "traverse(head)"
   ]
  },
  {
   "cell_type": "code",
   "execution_count": 7,
   "metadata": {},
   "outputs": [],
   "source": [
    "# Recursion traverse\n",
    "def traverse_rec(node):\n",
    "    if not node:\n",
    "        return\n",
    "    \n",
    "    print(node.getData() , end=\" -> \")\n",
    "    traverse_rec(node.getNext())"
   ]
  },
  {
   "cell_type": "code",
   "execution_count": 8,
   "metadata": {},
   "outputs": [
    {
     "name": "stdout",
     "output_type": "stream",
     "text": [
      "1 -> 2 -> 3 -> 4 -> 5 -> "
     ]
    }
   ],
   "source": [
    "traverse_rec(head)"
   ]
  },
  {
   "cell_type": "code",
   "execution_count": 9,
   "metadata": {},
   "outputs": [],
   "source": [
    "# Finding the Length of the LinkList:\n",
    "def length_find(head):\n",
    "    temp = head\n",
    "    length = 0\n",
    "    while temp:\n",
    "        length +=1\n",
    "        temp = temp.getNext()\n",
    "        # print(temp.getNext())\n",
    "\n",
    "    return length\n",
    "    \n"
   ]
  },
  {
   "cell_type": "code",
   "execution_count": 10,
   "metadata": {},
   "outputs": [
    {
     "data": {
      "text/plain": [
       "5"
      ]
     },
     "execution_count": 10,
     "metadata": {},
     "output_type": "execute_result"
    }
   ],
   "source": [
    "length_find(head)"
   ]
  },
  {
   "cell_type": "code",
   "execution_count": 11,
   "metadata": {},
   "outputs": [],
   "source": [
    "# by recursive way:\n",
    "def length_find1(node):\n",
    "    length = 0\n",
    "    if not node:\n",
    "        return 0\n",
    "    \n",
    "    else:\n",
    "        return 1 + length_find(node.getNext())\n",
    "\n",
    "      \n",
    "\n",
    "    \n",
    "\n"
   ]
  },
  {
   "cell_type": "code",
   "execution_count": 12,
   "metadata": {},
   "outputs": [
    {
     "data": {
      "text/plain": [
       "5"
      ]
     },
     "execution_count": 12,
     "metadata": {},
     "output_type": "execute_result"
    }
   ],
   "source": [
    "length_find1(head)"
   ]
  },
  {
   "cell_type": "code",
   "execution_count": 18,
   "metadata": {},
   "outputs": [
    {
     "name": "stdout",
     "output_type": "stream",
     "text": [
      "1 -> 2 -> 3 -> 4 -> 5 -> 6 -> \n",
      "1 -> 2 -> 3 -> 4 -> 5 -> 6 -> 9 -> "
     ]
    }
   ],
   "source": [
    "def insertNode(head , data , k):\n",
    "    # If the k is valid\n",
    "    if (k>length_find(head) or k < 0):\n",
    "        print(\"Argument K passwd is not valid\")\n",
    "        return head\n",
    "    \n",
    "    # create new node for data\n",
    "    newNode = Node(data) # create the new node object\n",
    "    if k == 0:\n",
    "        # we need to insert at the beginning\n",
    "        # we need to update the head\n",
    "        \n",
    "        newNode.setNext(head)\n",
    "        head = newNode\n",
    "    else:\n",
    "        # when not in beginning\n",
    "        # We need to jump to the prev node of the position\n",
    "        prev = head\n",
    "        i = 1\n",
    "        while(i <  k):\n",
    "            prev = prev.getNext()\n",
    "            i+=1\n",
    "\n",
    "        # prev will be one position left of kth position\n",
    "        newNode.setNext(prev.getNext())\n",
    "        prev.setNext(newNode)\n",
    "    return head\n",
    "\n",
    "head = Node(1)\n",
    "node2 = Node(2)\n",
    "node3 = Node(3)\n",
    "node4 = Node(4)\n",
    "node5 = Node(5)\n",
    "node6 = Node(6)\n",
    "\n",
    "head.setNext(node2)\n",
    "node2.setNext(node3)\n",
    "node3.setNext(node4)\n",
    "node4.setNext(node5)\n",
    "node5.setNext(node6)\n",
    "\n",
    "traverse(head)\n",
    "head = insertNode(head,9,6)\n",
    "print()\n",
    "traverse(head)\n",
    "        \n"
   ]
  },
  {
   "cell_type": "code",
   "execution_count": null,
   "metadata": {},
   "outputs": [],
   "source": []
  },
  {
   "cell_type": "code",
   "execution_count": null,
   "metadata": {},
   "outputs": [],
   "source": []
  }
 ],
 "metadata": {
  "kernelspec": {
   "display_name": "Python 3",
   "language": "python",
   "name": "python3"
  },
  "language_info": {
   "codemirror_mode": {
    "name": "ipython",
    "version": 3
   },
   "file_extension": ".py",
   "mimetype": "text/x-python",
   "name": "python",
   "nbconvert_exporter": "python",
   "pygments_lexer": "ipython3",
   "version": "3.11.0"
  }
 },
 "nbformat": 4,
 "nbformat_minor": 2
}
